{
  "cells": [
    {
      "cell_type": "code",
      "execution_count": 1,
      "metadata": {
        "id": "UtsXOewK6RBW"
      },
      "outputs": [],
      "source": [
        "import torch\n",
        "\n",
        "import torch.nn as nn\n",
        "import torchvision.transforms as transforms\n",
        "\n",
        "from torchvision import datasets\n",
        "from torchvision.utils import save_image"
      ]
    },
    {
      "cell_type": "code",
      "execution_count": 2,
      "metadata": {
        "colab": {
          "base_uri": "https://localhost:8080/"
        },
        "id": "PiLR5XDd7n9p",
        "outputId": "f020fdf1-2da5-4e39-c486-d223ae8bfd15"
      },
      "outputs": [
        {
          "output_type": "stream",
          "name": "stdout",
          "text": [
            "cuda\n"
          ]
        }
      ],
      "source": [
        "device = torch.device('cuda' if torch.cuda.is_available() else 'cpu')\n",
        "print(device)"
      ]
    },
    {
      "cell_type": "markdown",
      "metadata": {
        "id": "mpltYi0v84k0"
      },
      "source": [
        "# Define models"
      ]
    },
    {
      "cell_type": "code",
      "execution_count": 3,
      "metadata": {
        "id": "aILWBVMG7yLE"
      },
      "outputs": [],
      "source": [
        "# noise 분포의 dimension\n",
        "latent_dim = 100\n",
        "\n",
        "# Generator\n",
        "class Generator(nn.Module):\n",
        "    def __init__(self):\n",
        "        super(Generator, self).__init__()\n",
        "    \n",
        "        # Linear, BatchNorm, LeakyReLU 묶음 block\n",
        "        def block(input_dim, output_dim, normalize=True):\n",
        "            layers = [nn.Linear(input_dim, output_dim)]\n",
        "            if normalize:\n",
        "                layers.append(nn.BatchNorm1d(output_dim, 0.8))\n",
        "            layers.append(nn.LeakyReLU(0.2, inplace=True))\n",
        "            return layers\n",
        "        \n",
        "        self.model = nn.Sequential(\n",
        "            *block(latent_dim, 128, normalize=False),\n",
        "            *block(128, 256),\n",
        "            *block(256, 512),\n",
        "            *block(512, 1024),\n",
        "            nn.Linear(1024, 1*28*28),\n",
        "            nn.Tanh()\n",
        "        )\n",
        "    \n",
        "    # 하나의 image를 만들어서 반환.\n",
        "    # 이 image는 discriminator에 들어가게 됨.\n",
        "    def forward(self, z):\n",
        "        img = self.model(z)\n",
        "        img = img.view(img.size(0), 1, 28, 28)\n",
        "        return img"
      ]
    },
    {
      "cell_type": "code",
      "execution_count": 4,
      "metadata": {
        "id": "E94bJfE6GEIz"
      },
      "outputs": [],
      "source": [
        "# Discriminator\n",
        "class Discriminator(nn.Module):\n",
        "    def __init__(self):\n",
        "        super(Discriminator, self).__init__()\n",
        "\n",
        "        self.model = nn.Sequential(\n",
        "            nn.Linear(1*28*28, 512),\n",
        "            nn.LeakyReLU(0.2, inplace=True),\n",
        "            nn.Linear(512, 256),\n",
        "            nn.LeakyReLU(0.2, inplace=True),\n",
        "            nn.Linear(256, 1),\n",
        "            nn.Sigmoid()\n",
        "        )\n",
        "\n",
        "    # image에 대해 real, fake 여부를 확률로 반환. (real ~ 1, fake ~ 0)\n",
        "    def forward(self, img):\n",
        "        flattened = img.view(img.size(0), -1)\n",
        "        output = self.model(flattened)\n",
        "\n",
        "        return output"
      ]
    },
    {
      "cell_type": "code",
      "execution_count": 5,
      "metadata": {
        "colab": {
          "base_uri": "https://localhost:8080/"
        },
        "id": "v8Li4J9dHJ6v",
        "outputId": "e80b655f-79e4-4a6d-9906-34f74e51a891"
      },
      "outputs": [
        {
          "output_type": "stream",
          "name": "stdout",
          "text": [
            "Generator(\n",
            "  (model): Sequential(\n",
            "    (0): Linear(in_features=100, out_features=128, bias=True)\n",
            "    (1): LeakyReLU(negative_slope=0.2, inplace=True)\n",
            "    (2): Linear(in_features=128, out_features=256, bias=True)\n",
            "    (3): BatchNorm1d(256, eps=0.8, momentum=0.1, affine=True, track_running_stats=True)\n",
            "    (4): LeakyReLU(negative_slope=0.2, inplace=True)\n",
            "    (5): Linear(in_features=256, out_features=512, bias=True)\n",
            "    (6): BatchNorm1d(512, eps=0.8, momentum=0.1, affine=True, track_running_stats=True)\n",
            "    (7): LeakyReLU(negative_slope=0.2, inplace=True)\n",
            "    (8): Linear(in_features=512, out_features=1024, bias=True)\n",
            "    (9): BatchNorm1d(1024, eps=0.8, momentum=0.1, affine=True, track_running_stats=True)\n",
            "    (10): LeakyReLU(negative_slope=0.2, inplace=True)\n",
            "    (11): Linear(in_features=1024, out_features=784, bias=True)\n",
            "    (12): Tanh()\n",
            "  )\n",
            ")\n"
          ]
        }
      ],
      "source": [
        "print(Generator())"
      ]
    },
    {
      "cell_type": "code",
      "execution_count": 6,
      "metadata": {
        "colab": {
          "base_uri": "https://localhost:8080/"
        },
        "id": "6ldCantzHLO5",
        "outputId": "8e43965f-4305-4667-936f-865c144651c0"
      },
      "outputs": [
        {
          "output_type": "stream",
          "name": "stdout",
          "text": [
            "Discriminator(\n",
            "  (model): Sequential(\n",
            "    (0): Linear(in_features=784, out_features=512, bias=True)\n",
            "    (1): LeakyReLU(negative_slope=0.2, inplace=True)\n",
            "    (2): Linear(in_features=512, out_features=256, bias=True)\n",
            "    (3): LeakyReLU(negative_slope=0.2, inplace=True)\n",
            "    (4): Linear(in_features=256, out_features=1, bias=True)\n",
            "    (5): Sigmoid()\n",
            "  )\n",
            ")\n"
          ]
        }
      ],
      "source": [
        "print(Discriminator())"
      ]
    },
    {
      "cell_type": "markdown",
      "metadata": {
        "id": "Zi7cHiz5IAmH"
      },
      "source": [
        "# Dataset"
      ]
    },
    {
      "cell_type": "code",
      "execution_count": 7,
      "metadata": {
        "colab": {
          "base_uri": "https://localhost:8080/",
          "height": 443,
          "referenced_widgets": [
            "62d49a8ee2da4bf9b7dcd23b766b3c3b",
            "2e0f0d4ff1844601841096320ed48bcb",
            "2b80d35167904dd9930d1df77b13fda8",
            "ca79abd28bed464b985eaf1ec539bd3a",
            "0fb5b1a151ad488998f718234dc64955",
            "16511b1672074a60b6cef4863f462a9e",
            "a5c8abf0fef54cd9b9cf1e7bc9838875",
            "230e2aaf044d4f00be42265b40232ae5",
            "2517faa404a04b0a9da8b28d8cf99898",
            "e1fe0165060a4fe4b20a605d01cc2f8e",
            "5c18281c95344254a821055c64aa365c",
            "8e424b389626475fb00a309199f02a76",
            "835e82de1448441f8bf1747c6679658e",
            "b6ccac8955214cc99e72db61e29c7933",
            "e37f80aa99a1422da11243d900b39233",
            "7b76ecf26dc04d1aa8a6dea019f02e65",
            "dc43bc9b8bce4404b7b3ce45759c0977",
            "921ea8e7e8934d24b459756699042323",
            "3c837c0b30664481aa59d4a1c23b923a",
            "6d899bc19b954dc2afa193c5c7043ead",
            "15f1b31ab6cc4f32b2980f746fc5fb11",
            "a1dfe52251fc424495c9cd31f8e9775c",
            "840b7d50e1884c209984a57136cb37ba",
            "0290c1f73283403288472cec625c7d6c",
            "d4aca1b8df204498bc7e96b3a372d84f",
            "a92a88b1042e4150bcd178ad9701c478",
            "c173a760e28c4ecdb28effcb00ecbbbc",
            "cb05d7d22f294371aa433d9bb394cb8d",
            "2ca5a6ea8cfe41318a5199ff14da6005",
            "69d9f60aa8d449d6a57dc2d8e7235708",
            "d3e1cf5cd9084ed1baaa158c7f6766f8",
            "e7efae61d41647c385dbf40d61d9f553",
            "1676adc367c744ba9016b448fe085b92",
            "d23d376f3c8d4685bf7ad1a7f4ba1ad3",
            "de8fc965bfdc404e99e376b999d77c98",
            "e84daf0da74647c8a922e70eeaa633ce",
            "322a16281ca745a0ad55f501af5aecd5",
            "3e4a61216f124283974f8780195863fc",
            "9ef44b958dc642768babc920f7d7d9ac",
            "7fb36d62dac840ac8de7bdd634430834",
            "3054ffae61f64829b1b639fa548cddb5",
            "2bc1d14691634cd795da698df0a51ef3",
            "337f6c8a3f89401fb66d23424be2514d",
            "383163b321054b92b59dc73aa37b5bb9"
          ]
        },
        "id": "e6s_3xfwHxmP",
        "outputId": "699c4b88-163a-4f00-ed86-eb43872c292f"
      },
      "outputs": [
        {
          "output_type": "stream",
          "name": "stdout",
          "text": [
            "Downloading http://yann.lecun.com/exdb/mnist/train-images-idx3-ubyte.gz\n",
            "Downloading http://yann.lecun.com/exdb/mnist/train-images-idx3-ubyte.gz to ./dataset/MNIST/raw/train-images-idx3-ubyte.gz\n"
          ]
        },
        {
          "output_type": "display_data",
          "data": {
            "text/plain": [
              "  0%|          | 0/9912422 [00:00<?, ?it/s]"
            ],
            "application/vnd.jupyter.widget-view+json": {
              "version_major": 2,
              "version_minor": 0,
              "model_id": "62d49a8ee2da4bf9b7dcd23b766b3c3b"
            }
          },
          "metadata": {}
        },
        {
          "output_type": "stream",
          "name": "stdout",
          "text": [
            "Extracting ./dataset/MNIST/raw/train-images-idx3-ubyte.gz to ./dataset/MNIST/raw\n",
            "\n",
            "Downloading http://yann.lecun.com/exdb/mnist/train-labels-idx1-ubyte.gz\n",
            "Downloading http://yann.lecun.com/exdb/mnist/train-labels-idx1-ubyte.gz to ./dataset/MNIST/raw/train-labels-idx1-ubyte.gz\n"
          ]
        },
        {
          "output_type": "display_data",
          "data": {
            "text/plain": [
              "  0%|          | 0/28881 [00:00<?, ?it/s]"
            ],
            "application/vnd.jupyter.widget-view+json": {
              "version_major": 2,
              "version_minor": 0,
              "model_id": "8e424b389626475fb00a309199f02a76"
            }
          },
          "metadata": {}
        },
        {
          "output_type": "stream",
          "name": "stdout",
          "text": [
            "Extracting ./dataset/MNIST/raw/train-labels-idx1-ubyte.gz to ./dataset/MNIST/raw\n",
            "\n",
            "Downloading http://yann.lecun.com/exdb/mnist/t10k-images-idx3-ubyte.gz\n",
            "Downloading http://yann.lecun.com/exdb/mnist/t10k-images-idx3-ubyte.gz to ./dataset/MNIST/raw/t10k-images-idx3-ubyte.gz\n"
          ]
        },
        {
          "output_type": "display_data",
          "data": {
            "text/plain": [
              "  0%|          | 0/1648877 [00:00<?, ?it/s]"
            ],
            "application/vnd.jupyter.widget-view+json": {
              "version_major": 2,
              "version_minor": 0,
              "model_id": "840b7d50e1884c209984a57136cb37ba"
            }
          },
          "metadata": {}
        },
        {
          "output_type": "stream",
          "name": "stdout",
          "text": [
            "Extracting ./dataset/MNIST/raw/t10k-images-idx3-ubyte.gz to ./dataset/MNIST/raw\n",
            "\n",
            "Downloading http://yann.lecun.com/exdb/mnist/t10k-labels-idx1-ubyte.gz\n",
            "Downloading http://yann.lecun.com/exdb/mnist/t10k-labels-idx1-ubyte.gz to ./dataset/MNIST/raw/t10k-labels-idx1-ubyte.gz\n"
          ]
        },
        {
          "output_type": "display_data",
          "data": {
            "text/plain": [
              "  0%|          | 0/4542 [00:00<?, ?it/s]"
            ],
            "application/vnd.jupyter.widget-view+json": {
              "version_major": 2,
              "version_minor": 0,
              "model_id": "d23d376f3c8d4685bf7ad1a7f4ba1ad3"
            }
          },
          "metadata": {}
        },
        {
          "output_type": "stream",
          "name": "stdout",
          "text": [
            "Extracting ./dataset/MNIST/raw/t10k-labels-idx1-ubyte.gz to ./dataset/MNIST/raw\n",
            "\n"
          ]
        }
      ],
      "source": [
        "transforms_train = transforms.Compose([\n",
        "    transforms.Resize(28),\n",
        "    transforms.ToTensor(),\n",
        "    transforms.Normalize([0.5], [0.5])\n",
        "])\n",
        "\n",
        "train_dataset = datasets.MNIST(root=\"./dataset\", train=True, download=True, transform=transforms_train)\n",
        "dataloader = torch.utils.data.DataLoader(train_dataset, batch_size=128, shuffle=True, num_workers=2)\n",
        "# colab basic에서는 max num_workers=2\n",
        "# num_workers에 대한 내용 https://jybaek.tistory.com/799"
      ]
    },
    {
      "cell_type": "markdown",
      "metadata": {
        "id": "QCounKBnXbXR"
      },
      "source": [
        "# Training"
      ]
    },
    {
      "cell_type": "code",
      "execution_count": 8,
      "metadata": {
        "id": "xOKHQIpPLRQa"
      },
      "outputs": [],
      "source": [
        "# model initialize\n",
        "generator = Generator()\n",
        "discriminator = Discriminator()\n",
        "\n",
        "generator.to(device)\n",
        "discriminator.to(device)\n",
        "\n",
        "# loss function\n",
        "adversarial_loss = nn.BCELoss()\n",
        "adversarial_loss.to(device)\n",
        "\n",
        "# learning rate\n",
        "lr = 0.0002\n",
        "\n",
        "# optimizer\n",
        "optimizer_G = torch.optim.Adam(generator.parameters(), lr=lr, betas=(0.5, 0.999))\n",
        "optimizer_D = torch.optim.Adam(discriminator.parameters(), lr=lr, betas=(0.5, 0.999))\n",
        "# 위의 lr과 betas 값은 일반적으로 생성자와 판별자에 대해 사용되는 hyperparameter 값."
      ]
    },
    {
      "cell_type": "code",
      "execution_count": 9,
      "metadata": {
        "colab": {
          "base_uri": "https://localhost:8080/"
        },
        "id": "lX0w0rzaNuSz",
        "outputId": "80a346dc-ca9a-4514-a301-b2bfbc0ec827"
      },
      "outputs": [
        {
          "output_type": "stream",
          "name": "stdout",
          "text": [
            "[Epoch 0/200] [D loss: 0.516609] [G loss: 1.237676] [Elapsed time: 11.87s]\n",
            "[Epoch 1/200] [D loss: 0.508005] [G loss: 1.204512] [Elapsed time: 23.58s]\n",
            "[Epoch 2/200] [D loss: 0.563763] [G loss: 2.523177] [Elapsed time: 35.48s]\n",
            "[Epoch 3/200] [D loss: 0.431739] [G loss: 2.368331] [Elapsed time: 47.35s]\n",
            "[Epoch 4/200] [D loss: 0.518087] [G loss: 2.175791] [Elapsed time: 59.07s]\n",
            "[Epoch 5/200] [D loss: 0.511368] [G loss: 0.970562] [Elapsed time: 70.89s]\n",
            "[Epoch 6/200] [D loss: 0.317684] [G loss: 1.891010] [Elapsed time: 82.67s]\n",
            "[Epoch 7/200] [D loss: 0.488581] [G loss: 0.992198] [Elapsed time: 95.28s]\n",
            "[Epoch 8/200] [D loss: 0.389697] [G loss: 2.405047] [Elapsed time: 107.13s]\n",
            "[Epoch 9/200] [D loss: 0.366187] [G loss: 2.355525] [Elapsed time: 118.95s]\n",
            "[Epoch 10/200] [D loss: 0.556184] [G loss: 3.171861] [Elapsed time: 130.75s]\n",
            "[Epoch 11/200] [D loss: 0.323780] [G loss: 1.761401] [Elapsed time: 142.51s]\n",
            "[Epoch 12/200] [D loss: 0.395806] [G loss: 1.973573] [Elapsed time: 154.42s]\n",
            "[Epoch 13/200] [D loss: 0.360802] [G loss: 1.653064] [Elapsed time: 166.54s]\n",
            "[Epoch 14/200] [D loss: 0.486953] [G loss: 0.817472] [Elapsed time: 178.44s]\n",
            "[Epoch 15/200] [D loss: 0.573112] [G loss: 0.842806] [Elapsed time: 190.36s]\n",
            "[Epoch 16/200] [D loss: 0.594615] [G loss: 0.816165] [Elapsed time: 202.15s]\n",
            "[Epoch 17/200] [D loss: 0.604981] [G loss: 2.741252] [Elapsed time: 213.98s]\n",
            "[Epoch 18/200] [D loss: 0.477957] [G loss: 1.164924] [Elapsed time: 225.82s]\n",
            "[Epoch 19/200] [D loss: 0.527918] [G loss: 1.758359] [Elapsed time: 237.53s]\n",
            "[Epoch 20/200] [D loss: 0.489362] [G loss: 2.032549] [Elapsed time: 249.35s]\n",
            "[Epoch 21/200] [D loss: 0.507036] [G loss: 0.919010] [Elapsed time: 261.33s]\n",
            "[Epoch 22/200] [D loss: 0.529081] [G loss: 1.915169] [Elapsed time: 273.15s]\n",
            "[Epoch 23/200] [D loss: 0.544630] [G loss: 1.788560] [Elapsed time: 285.22s]\n",
            "[Epoch 24/200] [D loss: 0.500823] [G loss: 1.491969] [Elapsed time: 297.36s]\n",
            "[Epoch 25/200] [D loss: 0.442495] [G loss: 1.399635] [Elapsed time: 309.39s]\n",
            "[Epoch 26/200] [D loss: 0.607219] [G loss: 0.727955] [Elapsed time: 321.46s]\n",
            "[Epoch 27/200] [D loss: 0.533589] [G loss: 1.134494] [Elapsed time: 333.56s]\n",
            "[Epoch 28/200] [D loss: 0.559794] [G loss: 0.631799] [Elapsed time: 345.70s]\n",
            "[Epoch 29/200] [D loss: 0.479086] [G loss: 1.006638] [Elapsed time: 357.78s]\n",
            "[Epoch 30/200] [D loss: 0.499318] [G loss: 2.124745] [Elapsed time: 369.74s]\n",
            "[Epoch 31/200] [D loss: 0.639257] [G loss: 0.684033] [Elapsed time: 382.49s]\n",
            "[Epoch 32/200] [D loss: 0.588855] [G loss: 0.712013] [Elapsed time: 394.54s]\n",
            "[Epoch 33/200] [D loss: 0.505447] [G loss: 1.309689] [Elapsed time: 406.78s]\n",
            "[Epoch 34/200] [D loss: 0.548001] [G loss: 0.912031] [Elapsed time: 419.03s]\n",
            "[Epoch 35/200] [D loss: 0.555669] [G loss: 1.192392] [Elapsed time: 431.08s]\n",
            "[Epoch 36/200] [D loss: 0.511983] [G loss: 1.089443] [Elapsed time: 443.03s]\n",
            "[Epoch 37/200] [D loss: 0.499137] [G loss: 1.434845] [Elapsed time: 454.92s]\n",
            "[Epoch 38/200] [D loss: 0.536837] [G loss: 1.143889] [Elapsed time: 466.86s]\n",
            "[Epoch 39/200] [D loss: 0.513849] [G loss: 1.764864] [Elapsed time: 478.94s]\n",
            "[Epoch 40/200] [D loss: 0.491563] [G loss: 1.603236] [Elapsed time: 490.97s]\n",
            "[Epoch 41/200] [D loss: 0.588200] [G loss: 1.811652] [Elapsed time: 503.00s]\n",
            "[Epoch 42/200] [D loss: 0.495237] [G loss: 1.492182] [Elapsed time: 514.94s]\n",
            "[Epoch 43/200] [D loss: 0.473531] [G loss: 1.176008] [Elapsed time: 526.90s]\n",
            "[Epoch 44/200] [D loss: 0.463870] [G loss: 1.775996] [Elapsed time: 538.99s]\n",
            "[Epoch 45/200] [D loss: 0.517932] [G loss: 1.372680] [Elapsed time: 551.11s]\n",
            "[Epoch 46/200] [D loss: 0.554588] [G loss: 0.793166] [Elapsed time: 563.24s]\n",
            "[Epoch 47/200] [D loss: 0.460949] [G loss: 1.270166] [Elapsed time: 575.19s]\n",
            "[Epoch 48/200] [D loss: 0.520676] [G loss: 1.194278] [Elapsed time: 587.43s]\n",
            "[Epoch 49/200] [D loss: 0.461747] [G loss: 1.579537] [Elapsed time: 599.75s]\n",
            "[Epoch 50/200] [D loss: 0.467692] [G loss: 1.659941] [Elapsed time: 612.60s]\n",
            "[Epoch 51/200] [D loss: 0.490172] [G loss: 1.019262] [Elapsed time: 624.65s]\n",
            "[Epoch 52/200] [D loss: 0.468890] [G loss: 1.334623] [Elapsed time: 636.63s]\n",
            "[Epoch 53/200] [D loss: 0.474709] [G loss: 1.323267] [Elapsed time: 648.53s]\n",
            "[Epoch 54/200] [D loss: 0.497113] [G loss: 1.491982] [Elapsed time: 660.51s]\n",
            "[Epoch 55/200] [D loss: 0.441469] [G loss: 1.584507] [Elapsed time: 672.37s]\n",
            "[Epoch 56/200] [D loss: 0.478454] [G loss: 1.692487] [Elapsed time: 684.30s]\n",
            "[Epoch 57/200] [D loss: 0.540099] [G loss: 0.653444] [Elapsed time: 696.38s]\n",
            "[Epoch 58/200] [D loss: 0.506900] [G loss: 1.553469] [Elapsed time: 708.34s]\n",
            "[Epoch 59/200] [D loss: 0.458816] [G loss: 1.222533] [Elapsed time: 720.38s]\n",
            "[Epoch 60/200] [D loss: 0.519419] [G loss: 1.765930] [Elapsed time: 732.28s]\n",
            "[Epoch 61/200] [D loss: 0.517391] [G loss: 1.248823] [Elapsed time: 744.26s]\n",
            "[Epoch 62/200] [D loss: 0.483207] [G loss: 1.837567] [Elapsed time: 756.22s]\n",
            "[Epoch 63/200] [D loss: 0.470255] [G loss: 1.401917] [Elapsed time: 767.98s]\n",
            "[Epoch 64/200] [D loss: 0.425186] [G loss: 1.630772] [Elapsed time: 779.72s]\n",
            "[Epoch 65/200] [D loss: 0.527535] [G loss: 1.123154] [Elapsed time: 791.63s]\n",
            "[Epoch 66/200] [D loss: 0.532612] [G loss: 1.012607] [Elapsed time: 803.47s]\n",
            "[Epoch 67/200] [D loss: 0.393252] [G loss: 1.618940] [Elapsed time: 815.68s]\n",
            "[Epoch 68/200] [D loss: 0.421376] [G loss: 1.527417] [Elapsed time: 827.67s]\n",
            "[Epoch 69/200] [D loss: 0.475955] [G loss: 1.462573] [Elapsed time: 840.23s]\n",
            "[Epoch 70/200] [D loss: 0.488628] [G loss: 1.086651] [Elapsed time: 852.14s]\n",
            "[Epoch 71/200] [D loss: 0.557976] [G loss: 0.852271] [Elapsed time: 863.88s]\n",
            "[Epoch 72/200] [D loss: 0.455241] [G loss: 1.383985] [Elapsed time: 875.77s]\n",
            "[Epoch 73/200] [D loss: 0.483695] [G loss: 1.807158] [Elapsed time: 887.68s]\n",
            "[Epoch 74/200] [D loss: 0.510327] [G loss: 1.245243] [Elapsed time: 899.63s]\n",
            "[Epoch 75/200] [D loss: 0.523656] [G loss: 1.053629] [Elapsed time: 911.57s]\n",
            "[Epoch 76/200] [D loss: 0.446613] [G loss: 1.574346] [Elapsed time: 923.50s]\n",
            "[Epoch 77/200] [D loss: 0.542606] [G loss: 2.318412] [Elapsed time: 935.57s]\n",
            "[Epoch 78/200] [D loss: 0.575878] [G loss: 2.356268] [Elapsed time: 947.31s]\n",
            "[Epoch 79/200] [D loss: 0.487657] [G loss: 2.073670] [Elapsed time: 959.12s]\n",
            "[Epoch 80/200] [D loss: 0.494116] [G loss: 1.355449] [Elapsed time: 970.91s]\n",
            "[Epoch 81/200] [D loss: 0.396271] [G loss: 1.376181] [Elapsed time: 982.73s]\n",
            "[Epoch 82/200] [D loss: 0.504579] [G loss: 2.307253] [Elapsed time: 994.60s]\n",
            "[Epoch 83/200] [D loss: 0.521551] [G loss: 1.956671] [Elapsed time: 1006.45s]\n",
            "[Epoch 84/200] [D loss: 0.480173] [G loss: 1.153328] [Elapsed time: 1018.24s]\n",
            "[Epoch 85/200] [D loss: 0.487967] [G loss: 1.484330] [Elapsed time: 1029.97s]\n",
            "[Epoch 86/200] [D loss: 0.423440] [G loss: 1.668201] [Elapsed time: 1042.01s]\n",
            "[Epoch 87/200] [D loss: 0.495893] [G loss: 2.129322] [Elapsed time: 1053.75s]\n",
            "[Epoch 88/200] [D loss: 0.433473] [G loss: 1.634581] [Elapsed time: 1065.60s]\n",
            "[Epoch 89/200] [D loss: 0.534496] [G loss: 1.867148] [Elapsed time: 1077.97s]\n",
            "[Epoch 90/200] [D loss: 0.408958] [G loss: 1.757129] [Elapsed time: 1089.97s]\n",
            "[Epoch 91/200] [D loss: 0.481339] [G loss: 1.206475] [Elapsed time: 1101.60s]\n",
            "[Epoch 92/200] [D loss: 0.406086] [G loss: 1.761416] [Elapsed time: 1113.18s]\n",
            "[Epoch 93/200] [D loss: 0.464975] [G loss: 1.410595] [Elapsed time: 1125.07s]\n",
            "[Epoch 94/200] [D loss: 0.540159] [G loss: 1.071213] [Elapsed time: 1136.87s]\n",
            "[Epoch 95/200] [D loss: 0.472479] [G loss: 1.050380] [Elapsed time: 1148.75s]\n",
            "[Epoch 96/200] [D loss: 0.469308] [G loss: 1.711900] [Elapsed time: 1160.62s]\n",
            "[Epoch 97/200] [D loss: 0.469130] [G loss: 1.787393] [Elapsed time: 1172.52s]\n",
            "[Epoch 98/200] [D loss: 0.521496] [G loss: 2.145845] [Elapsed time: 1184.56s]\n",
            "[Epoch 99/200] [D loss: 0.518801] [G loss: 1.745397] [Elapsed time: 1196.44s]\n",
            "[Epoch 100/200] [D loss: 0.414583] [G loss: 1.421953] [Elapsed time: 1208.23s]\n",
            "[Epoch 101/200] [D loss: 0.468293] [G loss: 1.332983] [Elapsed time: 1220.24s]\n",
            "[Epoch 102/200] [D loss: 0.388024] [G loss: 1.661373] [Elapsed time: 1232.20s]\n",
            "[Epoch 103/200] [D loss: 0.453299] [G loss: 1.199129] [Elapsed time: 1244.16s]\n",
            "[Epoch 104/200] [D loss: 0.537674] [G loss: 0.990323] [Elapsed time: 1255.99s]\n",
            "[Epoch 105/200] [D loss: 0.463261] [G loss: 1.308792] [Elapsed time: 1267.67s]\n",
            "[Epoch 106/200] [D loss: 0.437864] [G loss: 1.396673] [Elapsed time: 1279.69s]\n",
            "[Epoch 107/200] [D loss: 0.448502] [G loss: 1.453610] [Elapsed time: 1291.37s]\n",
            "[Epoch 108/200] [D loss: 0.441663] [G loss: 1.365464] [Elapsed time: 1303.34s]\n",
            "[Epoch 109/200] [D loss: 0.439093] [G loss: 1.617686] [Elapsed time: 1316.07s]\n",
            "[Epoch 110/200] [D loss: 0.405144] [G loss: 1.633396] [Elapsed time: 1327.93s]\n",
            "[Epoch 111/200] [D loss: 0.438949] [G loss: 1.753207] [Elapsed time: 1340.00s]\n",
            "[Epoch 112/200] [D loss: 0.444042] [G loss: 2.060707] [Elapsed time: 1351.82s]\n",
            "[Epoch 113/200] [D loss: 0.420449] [G loss: 1.832278] [Elapsed time: 1363.90s]\n",
            "[Epoch 114/200] [D loss: 0.439385] [G loss: 1.229864] [Elapsed time: 1375.84s]\n",
            "[Epoch 115/200] [D loss: 0.454505] [G loss: 1.389274] [Elapsed time: 1387.72s]\n",
            "[Epoch 116/200] [D loss: 0.412171] [G loss: 1.406696] [Elapsed time: 1399.56s]\n",
            "[Epoch 117/200] [D loss: 0.502135] [G loss: 1.885812] [Elapsed time: 1411.53s]\n",
            "[Epoch 118/200] [D loss: 0.393632] [G loss: 1.770767] [Elapsed time: 1423.43s]\n",
            "[Epoch 119/200] [D loss: 0.522209] [G loss: 2.054706] [Elapsed time: 1435.39s]\n",
            "[Epoch 120/200] [D loss: 0.481708] [G loss: 1.282802] [Elapsed time: 1447.28s]\n",
            "[Epoch 121/200] [D loss: 0.432268] [G loss: 1.408134] [Elapsed time: 1458.98s]\n",
            "[Epoch 122/200] [D loss: 0.374460] [G loss: 1.962920] [Elapsed time: 1471.49s]\n",
            "[Epoch 123/200] [D loss: 0.458972] [G loss: 1.673690] [Elapsed time: 1483.35s]\n",
            "[Epoch 124/200] [D loss: 0.390518] [G loss: 1.762547] [Elapsed time: 1495.49s]\n",
            "[Epoch 125/200] [D loss: 0.440141] [G loss: 2.085731] [Elapsed time: 1507.17s]\n",
            "[Epoch 126/200] [D loss: 0.380501] [G loss: 2.095247] [Elapsed time: 1518.99s]\n",
            "[Epoch 127/200] [D loss: 0.450976] [G loss: 1.316418] [Elapsed time: 1530.80s]\n",
            "[Epoch 128/200] [D loss: 0.460329] [G loss: 1.033529] [Elapsed time: 1542.72s]\n",
            "[Epoch 129/200] [D loss: 0.398258] [G loss: 1.595838] [Elapsed time: 1554.48s]\n",
            "[Epoch 130/200] [D loss: 0.439420] [G loss: 1.783593] [Elapsed time: 1566.44s]\n",
            "[Epoch 131/200] [D loss: 0.417024] [G loss: 2.194884] [Elapsed time: 1578.17s]\n",
            "[Epoch 132/200] [D loss: 0.461806] [G loss: 1.417102] [Elapsed time: 1589.87s]\n",
            "[Epoch 133/200] [D loss: 0.461676] [G loss: 1.824169] [Elapsed time: 1601.69s]\n",
            "[Epoch 134/200] [D loss: 0.427761] [G loss: 1.484262] [Elapsed time: 1613.33s]\n",
            "[Epoch 135/200] [D loss: 0.458005] [G loss: 1.356738] [Elapsed time: 1625.13s]\n",
            "[Epoch 136/200] [D loss: 0.400844] [G loss: 1.665526] [Elapsed time: 1636.78s]\n",
            "[Epoch 137/200] [D loss: 0.472745] [G loss: 2.020618] [Elapsed time: 1648.53s]\n",
            "[Epoch 138/200] [D loss: 0.449383] [G loss: 1.176100] [Elapsed time: 1660.26s]\n",
            "[Epoch 139/200] [D loss: 0.460647] [G loss: 1.693943] [Elapsed time: 1671.86s]\n",
            "[Epoch 140/200] [D loss: 0.347962] [G loss: 1.689107] [Elapsed time: 1683.56s]\n",
            "[Epoch 141/200] [D loss: 0.419156] [G loss: 1.907484] [Elapsed time: 1695.23s]\n",
            "[Epoch 142/200] [D loss: 0.482449] [G loss: 1.960495] [Elapsed time: 1707.00s]\n",
            "[Epoch 143/200] [D loss: 0.453620] [G loss: 1.574728] [Elapsed time: 1718.96s]\n",
            "[Epoch 144/200] [D loss: 0.410557] [G loss: 1.958011] [Elapsed time: 1730.86s]\n",
            "[Epoch 145/200] [D loss: 0.365844] [G loss: 1.495595] [Elapsed time: 1742.46s]\n",
            "[Epoch 146/200] [D loss: 0.409495] [G loss: 1.803599] [Elapsed time: 1754.15s]\n",
            "[Epoch 147/200] [D loss: 0.433246] [G loss: 1.846620] [Elapsed time: 1765.78s]\n",
            "[Epoch 148/200] [D loss: 0.402519] [G loss: 1.421508] [Elapsed time: 1778.29s]\n",
            "[Epoch 149/200] [D loss: 0.386499] [G loss: 2.038821] [Elapsed time: 1790.29s]\n",
            "[Epoch 150/200] [D loss: 0.425848] [G loss: 1.667143] [Elapsed time: 1802.35s]\n",
            "[Epoch 151/200] [D loss: 0.426401] [G loss: 1.871064] [Elapsed time: 1814.26s]\n",
            "[Epoch 152/200] [D loss: 0.402139] [G loss: 1.382099] [Elapsed time: 1826.12s]\n",
            "[Epoch 153/200] [D loss: 0.424577] [G loss: 1.494650] [Elapsed time: 1837.83s]\n",
            "[Epoch 154/200] [D loss: 0.479185] [G loss: 2.311464] [Elapsed time: 1849.58s]\n",
            "[Epoch 155/200] [D loss: 0.375261] [G loss: 1.383850] [Elapsed time: 1861.40s]\n",
            "[Epoch 156/200] [D loss: 0.386695] [G loss: 1.645753] [Elapsed time: 1873.08s]\n",
            "[Epoch 157/200] [D loss: 0.449615] [G loss: 1.089880] [Elapsed time: 1884.85s]\n",
            "[Epoch 158/200] [D loss: 0.380769] [G loss: 2.014820] [Elapsed time: 1896.73s]\n",
            "[Epoch 159/200] [D loss: 0.509678] [G loss: 1.148540] [Elapsed time: 1908.54s]\n",
            "[Epoch 160/200] [D loss: 0.332601] [G loss: 2.028594] [Elapsed time: 1920.22s]\n",
            "[Epoch 161/200] [D loss: 0.452785] [G loss: 1.717605] [Elapsed time: 1932.06s]\n",
            "[Epoch 162/200] [D loss: 0.472931] [G loss: 2.090622] [Elapsed time: 1943.79s]\n",
            "[Epoch 163/200] [D loss: 0.426834] [G loss: 1.714027] [Elapsed time: 1955.67s]\n",
            "[Epoch 164/200] [D loss: 0.496669] [G loss: 0.993491] [Elapsed time: 1967.50s]\n",
            "[Epoch 165/200] [D loss: 0.443946] [G loss: 1.962819] [Elapsed time: 1979.30s]\n",
            "[Epoch 166/200] [D loss: 0.441216] [G loss: 1.467994] [Elapsed time: 1990.95s]\n",
            "[Epoch 167/200] [D loss: 0.454991] [G loss: 1.972173] [Elapsed time: 2003.38s]\n",
            "[Epoch 168/200] [D loss: 0.354978] [G loss: 2.675670] [Elapsed time: 2015.16s]\n",
            "[Epoch 169/200] [D loss: 0.400729] [G loss: 1.751850] [Elapsed time: 2027.03s]\n",
            "[Epoch 170/200] [D loss: 0.384336] [G loss: 2.066720] [Elapsed time: 2038.63s]\n",
            "[Epoch 171/200] [D loss: 0.438972] [G loss: 1.551353] [Elapsed time: 2050.33s]\n",
            "[Epoch 172/200] [D loss: 0.504562] [G loss: 1.474186] [Elapsed time: 2062.29s]\n",
            "[Epoch 173/200] [D loss: 0.343843] [G loss: 1.882031] [Elapsed time: 2073.81s]\n",
            "[Epoch 174/200] [D loss: 0.466509] [G loss: 1.179839] [Elapsed time: 2085.71s]\n",
            "[Epoch 175/200] [D loss: 0.432706] [G loss: 1.907410] [Elapsed time: 2097.67s]\n",
            "[Epoch 176/200] [D loss: 0.385903] [G loss: 2.052339] [Elapsed time: 2109.48s]\n",
            "[Epoch 177/200] [D loss: 0.518366] [G loss: 1.796011] [Elapsed time: 2121.36s]\n",
            "[Epoch 178/200] [D loss: 0.483471] [G loss: 2.224180] [Elapsed time: 2132.99s]\n",
            "[Epoch 179/200] [D loss: 0.384459] [G loss: 1.872584] [Elapsed time: 2144.96s]\n",
            "[Epoch 180/200] [D loss: 0.423512] [G loss: 1.961396] [Elapsed time: 2156.67s]\n",
            "[Epoch 181/200] [D loss: 0.413980] [G loss: 1.602233] [Elapsed time: 2168.31s]\n",
            "[Epoch 182/200] [D loss: 0.345385] [G loss: 2.058036] [Elapsed time: 2180.20s]\n",
            "[Epoch 183/200] [D loss: 0.434164] [G loss: 2.235191] [Elapsed time: 2191.96s]\n",
            "[Epoch 184/200] [D loss: 0.501492] [G loss: 2.042897] [Elapsed time: 2203.80s]\n",
            "[Epoch 185/200] [D loss: 0.366662] [G loss: 1.975891] [Elapsed time: 2215.49s]\n",
            "[Epoch 186/200] [D loss: 0.357817] [G loss: 2.223326] [Elapsed time: 2227.89s]\n",
            "[Epoch 187/200] [D loss: 0.467667] [G loss: 1.499407] [Elapsed time: 2239.52s]\n",
            "[Epoch 188/200] [D loss: 0.420503] [G loss: 1.997761] [Elapsed time: 2251.33s]\n",
            "[Epoch 189/200] [D loss: 0.434434] [G loss: 1.768862] [Elapsed time: 2263.09s]\n",
            "[Epoch 190/200] [D loss: 0.460018] [G loss: 2.027113] [Elapsed time: 2274.81s]\n",
            "[Epoch 191/200] [D loss: 0.446689] [G loss: 2.209885] [Elapsed time: 2286.33s]\n",
            "[Epoch 192/200] [D loss: 0.462097] [G loss: 1.282045] [Elapsed time: 2298.09s]\n",
            "[Epoch 193/200] [D loss: 0.467050] [G loss: 1.656741] [Elapsed time: 2309.85s]\n",
            "[Epoch 194/200] [D loss: 0.432947] [G loss: 1.975264] [Elapsed time: 2321.51s]\n",
            "[Epoch 195/200] [D loss: 0.423919] [G loss: 1.559448] [Elapsed time: 2333.20s]\n",
            "[Epoch 196/200] [D loss: 0.404701] [G loss: 1.470439] [Elapsed time: 2344.72s]\n",
            "[Epoch 197/200] [D loss: 0.440130] [G loss: 1.574899] [Elapsed time: 2356.53s]\n",
            "[Epoch 198/200] [D loss: 0.355626] [G loss: 2.022638] [Elapsed time: 2368.24s]\n",
            "[Epoch 199/200] [D loss: 0.427975] [G loss: 1.918568] [Elapsed time: 2379.90s]\n"
          ]
        }
      ],
      "source": [
        "import time\n",
        "\n",
        "# 전체 epoch 수\n",
        "epochs = 200\n",
        "# sample_interval 배치 마다 결과 이미지를 출력함.\n",
        "sample_interval = 2000\n",
        "start_time = time.time()\n",
        "\n",
        "for epoch in range(epochs):\n",
        "    for i, (imgs, _) in enumerate(dataloader):\n",
        "\n",
        "        # real 이미지와 fake 이미지에 대한 정답 label 생성.\n",
        "        real = torch.FloatTensor(imgs.size(0), 1).fill_(1.0).to(device)\n",
        "        fake = torch.FloatTensor(imgs.size(0), 1).fill_(0.0).to(device)\n",
        "\n",
        "        real_imgs = imgs.to(device)\n",
        "\n",
        "        \"\"\" fake 이미지 생성 \"\"\"\n",
        "        z = torch.normal(mean=0, std=1, size=(imgs.shape[0], latent_dim)).to(device)\n",
        "        generated_imgs = generator(z)\n",
        "\n",
        "        \"\"\" 판별자(discriminator) 학습 \"\"\"\n",
        "        # 참고한 코드와 다르게 논문에 맞춰 discriminator를 먼저 학습합니다.\n",
        "        optimizer_D.zero_grad()\n",
        "\n",
        "        # discriminator의 Loss 계산\n",
        "        real_loss = adversarial_loss(discriminator(real_imgs), real)\n",
        "        fake_loss = adversarial_loss(discriminator(generated_imgs.detach()), fake)\n",
        "        d_loss = (real_loss + fake_loss) / 2\n",
        "\n",
        "        # update discriminator\n",
        "        d_loss.backward()\n",
        "        optimizer_D.step()\n",
        "\n",
        "        \"\"\" 생성자(generator) 학습 \"\"\"\n",
        "        optimizer_G.zero_grad()\n",
        "\n",
        "        # generator의 Loss 계산\n",
        "        g_loss = adversarial_loss(discriminator(generated_imgs), real)\n",
        "        \n",
        "        # update generator\n",
        "        g_loss.backward()\n",
        "        optimizer_G.step()\n",
        "\n",
        "        done = epoch * len(dataloader) + i\n",
        "        if done % sample_interval == 0:\n",
        "            save_image(generated_imgs.data[:25], f\"{done}.png\", nrow=5, normalize=True)\n",
        "\n",
        "    print(f\"[Epoch {epoch}/{epochs}] [D loss: {d_loss.item():.6f}] [G loss: {g_loss.item():.6f}] [Elapsed time: {time.time() - start_time:.2f}s]\")"
      ]
    },
    {
      "cell_type": "code",
      "execution_count": 10,
      "metadata": {
        "colab": {
          "base_uri": "https://localhost:8080/",
          "height": 169
        },
        "id": "7hKUoSSdOUow",
        "outputId": "dff53843-01a5-4d41-9831-4d8bee720a61"
      },
      "outputs": [
        {
          "output_type": "execute_result",
          "data": {
            "text/plain": [
              "<IPython.core.display.Image object>"
            ],
            "image/png": "[encoded data removed]"
          },
          "metadata": {},
          "execution_count": 10
        }
      ],
      "source": [
        "from IPython.display import Image\n",
        "\n",
        "Image('30000.png')"
      ]
    },
    {
      "cell_type": "code",
      "execution_count": 11,
      "metadata": {
        "colab": {
          "base_uri": "https://localhost:8080/",
          "height": 169
        },
        "id": "f5nOVldJyLPA",
        "outputId": "3c86b014-2cea-41ac-f24a-cf93397170e3"
      },
      "outputs": [
        {
          "output_type": "execute_result",
          "data": {
            "text/plain": [
              "<IPython.core.display.Image object>"
            ],
            "image/png": "[encoded data removed]"
          },
          "metadata": {},
          "execution_count": 11
        }
      ],
      "source": [
        "Image('40000.png')"
      ]
    },
    {
      "cell_type": "code",
      "execution_count": 12,
      "metadata": {
        "colab": {
          "base_uri": "https://localhost:8080/",
          "height": 169
        },
        "id": "DyUZ007qyLMW",
        "outputId": "61396644-9439-4584-dbc0-66db2bbd584e"
      },
      "outputs": [
        {
          "output_type": "execute_result",
          "data": {
            "text/plain": [
              "<IPython.core.display.Image object>"
            ],
            "image/png": "[encoded data removed]"
          },
          "metadata": {},
          "execution_count": 12
        }
      ],
      "source": [
        "Image('50000.png')"
      ]
    },
    {
      "cell_type": "code",
      "execution_count": 13,
      "metadata": {
        "colab": {
          "base_uri": "https://localhost:8080/",
          "height": 169
        },
        "id": "yws5rwujyLIl",
        "outputId": "f3d30024-b42c-4aa3-cb68-562db63d6fa4"
      },
      "outputs": [
        {
          "output_type": "execute_result",
          "data": {
            "text/plain": [
              "<IPython.core.display.Image object>"
            ],
            "image/png": "[encoded data removed]"
          },
          "metadata": {},
          "execution_count": 13
        }
      ],
      "source": [
        "Image('60000.png')"
      ]
    },
    {
      "cell_type": "code",
      "execution_count": 14,
      "metadata": {
        "colab": {
          "base_uri": "https://localhost:8080/",
          "height": 169
        },
        "id": "OBQk4A5ayK2W",
        "outputId": "bc654019-5429-4c77-ff47-ef68b746587b"
      },
      "outputs": [
        {
          "output_type": "execute_result",
          "data": {
            "text/plain": [
              "<IPython.core.display.Image object>"
            ],
            "image/png": "[encoded data removed]"
          },
          "metadata": {},
          "execution_count": 14
        }
      ],
      "source": [
        "Image('70000.png')"
      ]
    },
    {
      "cell_type": "code",
      "execution_count": 15,
      "metadata": {
        "colab": {
          "base_uri": "https://localhost:8080/",
          "height": 169
        },
        "id": "GBIpxDZJyLWS",
        "outputId": "ea2f5632-73b4-4bf1-c562-4a8f42c49b05"
      },
      "outputs": [
        {
          "output_type": "execute_result",
          "data": {
            "text/plain": [
              "<IPython.core.display.Image object>"
            ],
            "image/png": "[encoded data removed]"
          },
          "metadata": {},
          "execution_count": 15
        }
      ],
      "source": [
        "Image('80000.png')"
      ]
    },
    {
      "cell_type": "code",
      "execution_count": 16,
      "metadata": {
        "colab": {
          "base_uri": "https://localhost:8080/",
          "height": 169
        },
        "id": "58_-oxXnSQJc",
        "outputId": "b4d7e34a-ea3a-4038-8115-5af307310f74"
      },
      "outputs": [
        {
          "output_type": "execute_result",
          "data": {
            "text/plain": [
              "<IPython.core.display.Image object>"
            ],
            "image/png": "[encoded data removed]"
          },
          "metadata": {},
          "execution_count": 16
        }
      ],
      "source": [
        "Image('90000.png')"
      ]
    }
  ],
  "metadata": {
    "accelerator": "GPU",
    "colab": {
      "name": "GAN.ipynb",
      "provenance": []
    },
    "gpuClass": "standard",
    "kernelspec": {
      "display_name": "Python 3",
      "name": "python3"
    },
    "language_info": {
      "name": "python"
    },
    "widgets": {
      "application/vnd.jupyter.widget-state+json": {
        "62d49a8ee2da4bf9b7dcd23b766b3c3b": {
          "model_module": "@jupyter-widgets/controls",
          "model_name": "HBoxModel",
          "model_module_version": "1.5.0",
          "state": {
            "_dom_classes": [],
            "_model_module": "@jupyter-widgets/controls",
            "_model_module_version": "1.5.0",
            "_model_name": "HBoxModel",
            "_view_count": null,
            "_view_module": "@jupyter-widgets/controls",
            "_view_module_version": "1.5.0",
            "_view_name": "HBoxView",
            "box_style": "",
            "children": [
              "IPY_MODEL_2e0f0d4ff1844601841096320ed48bcb",
              "IPY_MODEL_2b80d35167904dd9930d1df77b13fda8",
              "IPY_MODEL_ca79abd28bed464b985eaf1ec539bd3a"
            ],
            "layout": "IPY_MODEL_0fb5b1a151ad488998f718234dc64955"
          }
        },
        "2e0f0d4ff1844601841096320ed48bcb": {
          "model_module": "@jupyter-widgets/controls",
          "model_name": "HTMLModel",
          "model_module_version": "1.5.0",
          "state": {
            "_dom_classes": [],
            "_model_module": "@jupyter-widgets/controls",
            "_model_module_version": "1.5.0",
            "_model_name": "HTMLModel",
            "_view_count": null,
            "_view_module": "@jupyter-widgets/controls",
            "_view_module_version": "1.5.0",
            "_view_name": "HTMLView",
            "description": "",
            "description_tooltip": null,
            "layout": "IPY_MODEL_16511b1672074a60b6cef4863f462a9e",
            "placeholder": "​",
            "style": "IPY_MODEL_a5c8abf0fef54cd9b9cf1e7bc9838875",
            "value": ""
          }
        },
        "2b80d35167904dd9930d1df77b13fda8": {
          "model_module": "@jupyter-widgets/controls",
          "model_name": "FloatProgressModel",
          "model_module_version": "1.5.0",
          "state": {
            "_dom_classes": [],
            "_model_module": "@jupyter-widgets/controls",
            "_model_module_version": "1.5.0",
            "_model_name": "FloatProgressModel",
            "_view_count": null,
            "_view_module": "@jupyter-widgets/controls",
            "_view_module_version": "1.5.0",
            "_view_name": "ProgressView",
            "bar_style": "success",
            "description": "",
            "description_tooltip": null,
            "layout": "IPY_MODEL_230e2aaf044d4f00be42265b40232ae5",
            "max": 9912422,
            "min": 0,
            "orientation": "horizontal",
            "style": "IPY_MODEL_2517faa404a04b0a9da8b28d8cf99898",
            "value": 9912422
          }
        },
        "ca79abd28bed464b985eaf1ec539bd3a": {
          "model_module": "@jupyter-widgets/controls",
          "model_name": "HTMLModel",
          "model_module_version": "1.5.0",
          "state": {
            "_dom_classes": [],
            "_model_module": "@jupyter-widgets/controls",
            "_model_module_version": "1.5.0",
            "_model_name": "HTMLModel",
            "_view_count": null,
            "_view_module": "@jupyter-widgets/controls",
            "_view_module_version": "1.5.0",
            "_view_name": "HTMLView",
            "description": "",
            "description_tooltip": null,
            "layout": "IPY_MODEL_e1fe0165060a4fe4b20a605d01cc2f8e",
            "placeholder": "​",
            "style": "IPY_MODEL_5c18281c95344254a821055c64aa365c",
            "value": " 9913344/? [00:00&lt;00:00, 72670923.65it/s]"
          }
        },
        "0fb5b1a151ad488998f718234dc64955": {
          "model_module": "@jupyter-widgets/base",
          "model_name": "LayoutModel",
          "model_module_version": "1.2.0",
          "state": {
            "_model_module": "@jupyter-widgets/base",
            "_model_module_version": "1.2.0",
            "_model_name": "LayoutModel",
            "_view_count": null,
            "_view_module": "@jupyter-widgets/base",
            "_view_module_version": "1.2.0",
            "_view_name": "LayoutView",
            "align_content": null,
            "align_items": null,
            "align_self": null,
            "border": null,
            "bottom": null,
            "display": null,
            "flex": null,
            "flex_flow": null,
            "grid_area": null,
            "grid_auto_columns": null,
            "grid_auto_flow": null,
            "grid_auto_rows": null,
            "grid_column": null,
            "grid_gap": null,
            "grid_row": null,
            "grid_template_areas": null,
            "grid_template_columns": null,
            "grid_template_rows": null,
            "height": null,
            "justify_content": null,
            "justify_items": null,
            "left": null,
            "margin": null,
            "max_height": null,
            "max_width": null,
            "min_height": null,
            "min_width": null,
            "object_fit": null,
            "object_position": null,
            "order": null,
            "overflow": null,
            "overflow_x": null,
            "overflow_y": null,
            "padding": null,
            "right": null,
            "top": null,
            "visibility": null,
            "width": null
          }
        },
        "16511b1672074a60b6cef4863f462a9e": {
          "model_module": "@jupyter-widgets/base",
          "model_name": "LayoutModel",
          "model_module_version": "1.2.0",
          "state": {
            "_model_module": "@jupyter-widgets/base",
            "_model_module_version": "1.2.0",
            "_model_name": "LayoutModel",
            "_view_count": null,
            "_view_module": "@jupyter-widgets/base",
            "_view_module_version": "1.2.0",
            "_view_name": "LayoutView",
            "align_content": null,
            "align_items": null,
            "align_self": null,
            "border": null,
            "bottom": null,
            "display": null,
            "flex": null,
            "flex_flow": null,
            "grid_area": null,
            "grid_auto_columns": null,
            "grid_auto_flow": null,
            "grid_auto_rows": null,
            "grid_column": null,
            "grid_gap": null,
            "grid_row": null,
            "grid_template_areas": null,
            "grid_template_columns": null,
            "grid_template_rows": null,
            "height": null,
            "justify_content": null,
            "justify_items": null,
            "left": null,
            "margin": null,
            "max_height": null,
            "max_width": null,
            "min_height": null,
            "min_width": null,
            "object_fit": null,
            "object_position": null,
            "order": null,
            "overflow": null,
            "overflow_x": null,
            "overflow_y": null,
            "padding": null,
            "right": null,
            "top": null,
            "visibility": null,
            "width": null
          }
        },
        "a5c8abf0fef54cd9b9cf1e7bc9838875": {
          "model_module": "@jupyter-widgets/controls",
          "model_name": "DescriptionStyleModel",
          "model_module_version": "1.5.0",
          "state": {
            "_model_module": "@jupyter-widgets/controls",
            "_model_module_version": "1.5.0",
            "_model_name": "DescriptionStyleModel",
            "_view_count": null,
            "_view_module": "@jupyter-widgets/base",
            "_view_module_version": "1.2.0",
            "_view_name": "StyleView",
            "description_width": ""
          }
        },
        "230e2aaf044d4f00be42265b40232ae5": {
          "model_module": "@jupyter-widgets/base",
          "model_name": "LayoutModel",
          "model_module_version": "1.2.0",
          "state": {
            "_model_module": "@jupyter-widgets/base",
            "_model_module_version": "1.2.0",
            "_model_name": "LayoutModel",
            "_view_count": null,
            "_view_module": "@jupyter-widgets/base",
            "_view_module_version": "1.2.0",
            "_view_name": "LayoutView",
            "align_content": null,
            "align_items": null,
            "align_self": null,
            "border": null,
            "bottom": null,
            "display": null,
            "flex": null,
            "flex_flow": null,
            "grid_area": null,
            "grid_auto_columns": null,
            "grid_auto_flow": null,
            "grid_auto_rows": null,
            "grid_column": null,
            "grid_gap": null,
            "grid_row": null,
            "grid_template_areas": null,
            "grid_template_columns": null,
            "grid_template_rows": null,
            "height": null,
            "justify_content": null,
            "justify_items": null,
            "left": null,
            "margin": null,
            "max_height": null,
            "max_width": null,
            "min_height": null,
            "min_width": null,
            "object_fit": null,
            "object_position": null,
            "order": null,
            "overflow": null,
            "overflow_x": null,
            "overflow_y": null,
            "padding": null,
            "right": null,
            "top": null,
            "visibility": null,
            "width": null
          }
        },
        "2517faa404a04b0a9da8b28d8cf99898": {
          "model_module": "@jupyter-widgets/controls",
          "model_name": "ProgressStyleModel",
          "model_module_version": "1.5.0",
          "state": {
            "_model_module": "@jupyter-widgets/controls",
            "_model_module_version": "1.5.0",
            "_model_name": "ProgressStyleModel",
            "_view_count": null,
            "_view_module": "@jupyter-widgets/base",
            "_view_module_version": "1.2.0",
            "_view_name": "StyleView",
            "bar_color": null,
            "description_width": ""
          }
        },
        "e1fe0165060a4fe4b20a605d01cc2f8e": {
          "model_module": "@jupyter-widgets/base",
          "model_name": "LayoutModel",
          "model_module_version": "1.2.0",
          "state": {
            "_model_module": "@jupyter-widgets/base",
            "_model_module_version": "1.2.0",
            "_model_name": "LayoutModel",
            "_view_count": null,
            "_view_module": "@jupyter-widgets/base",
            "_view_module_version": "1.2.0",
            "_view_name": "LayoutView",
            "align_content": null,
            "align_items": null,
            "align_self": null,
            "border": null,
            "bottom": null,
            "display": null,
            "flex": null,
            "flex_flow": null,
            "grid_area": null,
            "grid_auto_columns": null,
            "grid_auto_flow": null,
            "grid_auto_rows": null,
            "grid_column": null,
            "grid_gap": null,
            "grid_row": null,
            "grid_template_areas": null,
            "grid_template_columns": null,
            "grid_template_rows": null,
            "height": null,
            "justify_content": null,
            "justify_items": null,
            "left": null,
            "margin": null,
            "max_height": null,
            "max_width": null,
            "min_height": null,
            "min_width": null,
            "object_fit": null,
            "object_position": null,
            "order": null,
            "overflow": null,
            "overflow_x": null,
            "overflow_y": null,
            "padding": null,
            "right": null,
            "top": null,
            "visibility": null,
            "width": null
          }
        },
        "5c18281c95344254a821055c64aa365c": {
          "model_module": "@jupyter-widgets/controls",
          "model_name": "DescriptionStyleModel",
          "model_module_version": "1.5.0",
          "state": {
            "_model_module": "@jupyter-widgets/controls",
            "_model_module_version": "1.5.0",
            "_model_name": "DescriptionStyleModel",
            "_view_count": null,
            "_view_module": "@jupyter-widgets/base",
            "_view_module_version": "1.2.0",
            "_view_name": "StyleView",
            "description_width": ""
          }
        },
        "8e424b389626475fb00a309199f02a76": {
          "model_module": "@jupyter-widgets/controls",
          "model_name": "HBoxModel",
          "model_module_version": "1.5.0",
          "state": {
            "_dom_classes": [],
            "_model_module": "@jupyter-widgets/controls",
            "_model_module_version": "1.5.0",
            "_model_name": "HBoxModel",
            "_view_count": null,
            "_view_module": "@jupyter-widgets/controls",
            "_view_module_version": "1.5.0",
            "_view_name": "HBoxView",
            "box_style": "",
            "children": [
              "IPY_MODEL_835e82de1448441f8bf1747c6679658e",
              "IPY_MODEL_b6ccac8955214cc99e72db61e29c7933",
              "IPY_MODEL_e37f80aa99a1422da11243d900b39233"
            ],
            "layout": "IPY_MODEL_7b76ecf26dc04d1aa8a6dea019f02e65"
          }
        },
        "835e82de1448441f8bf1747c6679658e": {
          "model_module": "@jupyter-widgets/controls",
          "model_name": "HTMLModel",
          "model_module_version": "1.5.0",
          "state": {
            "_dom_classes": [],
            "_model_module": "@jupyter-widgets/controls",
            "_model_module_version": "1.5.0",
            "_model_name": "HTMLModel",
            "_view_count": null,
            "_view_module": "@jupyter-widgets/controls",
            "_view_module_version": "1.5.0",
            "_view_name": "HTMLView",
            "description": "",
            "description_tooltip": null,
            "layout": "IPY_MODEL_dc43bc9b8bce4404b7b3ce45759c0977",
            "placeholder": "​",
            "style": "IPY_MODEL_921ea8e7e8934d24b459756699042323",
            "value": ""
          }
        },
        "b6ccac8955214cc99e72db61e29c7933": {
          "model_module": "@jupyter-widgets/controls",
          "model_name": "FloatProgressModel",
          "model_module_version": "1.5.0",
          "state": {
            "_dom_classes": [],
            "_model_module": "@jupyter-widgets/controls",
            "_model_module_version": "1.5.0",
            "_model_name": "FloatProgressModel",
            "_view_count": null,
            "_view_module": "@jupyter-widgets/controls",
            "_view_module_version": "1.5.0",
            "_view_name": "ProgressView",
            "bar_style": "success",
            "description": "",
            "description_tooltip": null,
            "layout": "IPY_MODEL_3c837c0b30664481aa59d4a1c23b923a",
            "max": 28881,
            "min": 0,
            "orientation": "horizontal",
            "style": "IPY_MODEL_6d899bc19b954dc2afa193c5c7043ead",
            "value": 28881
          }
        },
        "e37f80aa99a1422da11243d900b39233": {
          "model_module": "@jupyter-widgets/controls",
          "model_name": "HTMLModel",
          "model_module_version": "1.5.0",
          "state": {
            "_dom_classes": [],
            "_model_module": "@jupyter-widgets/controls",
            "_model_module_version": "1.5.0",
            "_model_name": "HTMLModel",
            "_view_count": null,
            "_view_module": "@jupyter-widgets/controls",
            "_view_module_version": "1.5.0",
            "_view_name": "HTMLView",
            "description": "",
            "description_tooltip": null,
            "layout": "IPY_MODEL_15f1b31ab6cc4f32b2980f746fc5fb11",
            "placeholder": "​",
            "style": "IPY_MODEL_a1dfe52251fc424495c9cd31f8e9775c",
            "value": " 29696/? [00:00&lt;00:00, 936989.78it/s]"
          }
        },
        "7b76ecf26dc04d1aa8a6dea019f02e65": {
          "model_module": "@jupyter-widgets/base",
          "model_name": "LayoutModel",
          "model_module_version": "1.2.0",
          "state": {
            "_model_module": "@jupyter-widgets/base",
            "_model_module_version": "1.2.0",
            "_model_name": "LayoutModel",
            "_view_count": null,
            "_view_module": "@jupyter-widgets/base",
            "_view_module_version": "1.2.0",
            "_view_name": "LayoutView",
            "align_content": null,
            "align_items": null,
            "align_self": null,
            "border": null,
            "bottom": null,
            "display": null,
            "flex": null,
            "flex_flow": null,
            "grid_area": null,
            "grid_auto_columns": null,
            "grid_auto_flow": null,
            "grid_auto_rows": null,
            "grid_column": null,
            "grid_gap": null,
            "grid_row": null,
            "grid_template_areas": null,
            "grid_template_columns": null,
            "grid_template_rows": null,
            "height": null,
            "justify_content": null,
            "justify_items": null,
            "left": null,
            "margin": null,
            "max_height": null,
            "max_width": null,
            "min_height": null,
            "min_width": null,
            "object_fit": null,
            "object_position": null,
            "order": null,
            "overflow": null,
            "overflow_x": null,
            "overflow_y": null,
            "padding": null,
            "right": null,
            "top": null,
            "visibility": null,
            "width": null
          }
        },
        "dc43bc9b8bce4404b7b3ce45759c0977": {
          "model_module": "@jupyter-widgets/base",
          "model_name": "LayoutModel",
          "model_module_version": "1.2.0",
          "state": {
            "_model_module": "@jupyter-widgets/base",
            "_model_module_version": "1.2.0",
            "_model_name": "LayoutModel",
            "_view_count": null,
            "_view_module": "@jupyter-widgets/base",
            "_view_module_version": "1.2.0",
            "_view_name": "LayoutView",
            "align_content": null,
            "align_items": null,
            "align_self": null,
            "border": null,
            "bottom": null,
            "display": null,
            "flex": null,
            "flex_flow": null,
            "grid_area": null,
            "grid_auto_columns": null,
            "grid_auto_flow": null,
            "grid_auto_rows": null,
            "grid_column": null,
            "grid_gap": null,
            "grid_row": null,
            "grid_template_areas": null,
            "grid_template_columns": null,
            "grid_template_rows": null,
            "height": null,
            "justify_content": null,
            "justify_items": null,
            "left": null,
            "margin": null,
            "max_height": null,
            "max_width": null,
            "min_height": null,
            "min_width": null,
            "object_fit": null,
            "object_position": null,
            "order": null,
            "overflow": null,
            "overflow_x": null,
            "overflow_y": null,
            "padding": null,
            "right": null,
            "top": null,
            "visibility": null,
            "width": null
          }
        },
        "921ea8e7e8934d24b459756699042323": {
          "model_module": "@jupyter-widgets/controls",
          "model_name": "DescriptionStyleModel",
          "model_module_version": "1.5.0",
          "state": {
            "_model_module": "@jupyter-widgets/controls",
            "_model_module_version": "1.5.0",
            "_model_name": "DescriptionStyleModel",
            "_view_count": null,
            "_view_module": "@jupyter-widgets/base",
            "_view_module_version": "1.2.0",
            "_view_name": "StyleView",
            "description_width": ""
          }
        },
        "3c837c0b30664481aa59d4a1c23b923a": {
          "model_module": "@jupyter-widgets/base",
          "model_name": "LayoutModel",
          "model_module_version": "1.2.0",
          "state": {
            "_model_module": "@jupyter-widgets/base",
            "_model_module_version": "1.2.0",
            "_model_name": "LayoutModel",
            "_view_count": null,
            "_view_module": "@jupyter-widgets/base",
            "_view_module_version": "1.2.0",
            "_view_name": "LayoutView",
            "align_content": null,
            "align_items": null,
            "align_self": null,
            "border": null,
            "bottom": null,
            "display": null,
            "flex": null,
            "flex_flow": null,
            "grid_area": null,
            "grid_auto_columns": null,
            "grid_auto_flow": null,
            "grid_auto_rows": null,
            "grid_column": null,
            "grid_gap": null,
            "grid_row": null,
            "grid_template_areas": null,
            "grid_template_columns": null,
            "grid_template_rows": null,
            "height": null,
            "justify_content": null,
            "justify_items": null,
            "left": null,
            "margin": null,
            "max_height": null,
            "max_width": null,
            "min_height": null,
            "min_width": null,
            "object_fit": null,
            "object_position": null,
            "order": null,
            "overflow": null,
            "overflow_x": null,
            "overflow_y": null,
            "padding": null,
            "right": null,
            "top": null,
            "visibility": null,
            "width": null
          }
        },
        "6d899bc19b954dc2afa193c5c7043ead": {
          "model_module": "@jupyter-widgets/controls",
          "model_name": "ProgressStyleModel",
          "model_module_version": "1.5.0",
          "state": {
            "_model_module": "@jupyter-widgets/controls",
            "_model_module_version": "1.5.0",
            "_model_name": "ProgressStyleModel",
            "_view_count": null,
            "_view_module": "@jupyter-widgets/base",
            "_view_module_version": "1.2.0",
            "_view_name": "StyleView",
            "bar_color": null,
            "description_width": ""
          }
        },
        "15f1b31ab6cc4f32b2980f746fc5fb11": {
          "model_module": "@jupyter-widgets/base",
          "model_name": "LayoutModel",
          "model_module_version": "1.2.0",
          "state": {
            "_model_module": "@jupyter-widgets/base",
            "_model_module_version": "1.2.0",
            "_model_name": "LayoutModel",
            "_view_count": null,
            "_view_module": "@jupyter-widgets/base",
            "_view_module_version": "1.2.0",
            "_view_name": "LayoutView",
            "align_content": null,
            "align_items": null,
            "align_self": null,
            "border": null,
            "bottom": null,
            "display": null,
            "flex": null,
            "flex_flow": null,
            "grid_area": null,
            "grid_auto_columns": null,
            "grid_auto_flow": null,
            "grid_auto_rows": null,
            "grid_column": null,
            "grid_gap": null,
            "grid_row": null,
            "grid_template_areas": null,
            "grid_template_columns": null,
            "grid_template_rows": null,
            "height": null,
            "justify_content": null,
            "justify_items": null,
            "left": null,
            "margin": null,
            "max_height": null,
            "max_width": null,
            "min_height": null,
            "min_width": null,
            "object_fit": null,
            "object_position": null,
            "order": null,
            "overflow": null,
            "overflow_x": null,
            "overflow_y": null,
            "padding": null,
            "right": null,
            "top": null,
            "visibility": null,
            "width": null
          }
        },
        "a1dfe52251fc424495c9cd31f8e9775c": {
          "model_module": "@jupyter-widgets/controls",
          "model_name": "DescriptionStyleModel",
          "model_module_version": "1.5.0",
          "state": {
            "_model_module": "@jupyter-widgets/controls",
            "_model_module_version": "1.5.0",
            "_model_name": "DescriptionStyleModel",
            "_view_count": null,
            "_view_module": "@jupyter-widgets/base",
            "_view_module_version": "1.2.0",
            "_view_name": "StyleView",
            "description_width": ""
          }
        },
        "840b7d50e1884c209984a57136cb37ba": {
          "model_module": "@jupyter-widgets/controls",
          "model_name": "HBoxModel",
          "model_module_version": "1.5.0",
          "state": {
            "_dom_classes": [],
            "_model_module": "@jupyter-widgets/controls",
            "_model_module_version": "1.5.0",
            "_model_name": "HBoxModel",
            "_view_count": null,
            "_view_module": "@jupyter-widgets/controls",
            "_view_module_version": "1.5.0",
            "_view_name": "HBoxView",
            "box_style": "",
            "children": [
              "IPY_MODEL_0290c1f73283403288472cec625c7d6c",
              "IPY_MODEL_d4aca1b8df204498bc7e96b3a372d84f",
              "IPY_MODEL_a92a88b1042e4150bcd178ad9701c478"
            ],
            "layout": "IPY_MODEL_c173a760e28c4ecdb28effcb00ecbbbc"
          }
        },
        "0290c1f73283403288472cec625c7d6c": {
          "model_module": "@jupyter-widgets/controls",
          "model_name": "HTMLModel",
          "model_module_version": "1.5.0",
          "state": {
            "_dom_classes": [],
            "_model_module": "@jupyter-widgets/controls",
            "_model_module_version": "1.5.0",
            "_model_name": "HTMLModel",
            "_view_count": null,
            "_view_module": "@jupyter-widgets/controls",
            "_view_module_version": "1.5.0",
            "_view_name": "HTMLView",
            "description": "",
            "description_tooltip": null,
            "layout": "IPY_MODEL_cb05d7d22f294371aa433d9bb394cb8d",
            "placeholder": "​",
            "style": "IPY_MODEL_2ca5a6ea8cfe41318a5199ff14da6005",
            "value": ""
          }
        },
        "d4aca1b8df204498bc7e96b3a372d84f": {
          "model_module": "@jupyter-widgets/controls",
          "model_name": "FloatProgressModel",
          "model_module_version": "1.5.0",
          "state": {
            "_dom_classes": [],
            "_model_module": "@jupyter-widgets/controls",
            "_model_module_version": "1.5.0",
            "_model_name": "FloatProgressModel",
            "_view_count": null,
            "_view_module": "@jupyter-widgets/controls",
            "_view_module_version": "1.5.0",
            "_view_name": "ProgressView",
            "bar_style": "success",
            "description": "",
            "description_tooltip": null,
            "layout": "IPY_MODEL_69d9f60aa8d449d6a57dc2d8e7235708",
            "max": 1648877,
            "min": 0,
            "orientation": "horizontal",
            "style": "IPY_MODEL_d3e1cf5cd9084ed1baaa158c7f6766f8",
            "value": 1648877
          }
        },
        "a92a88b1042e4150bcd178ad9701c478": {
          "model_module": "@jupyter-widgets/controls",
          "model_name": "HTMLModel",
          "model_module_version": "1.5.0",
          "state": {
            "_dom_classes": [],
            "_model_module": "@jupyter-widgets/controls",
            "_model_module_version": "1.5.0",
            "_model_name": "HTMLModel",
            "_view_count": null,
            "_view_module": "@jupyter-widgets/controls",
            "_view_module_version": "1.5.0",
            "_view_name": "HTMLView",
            "description": "",
            "description_tooltip": null,
            "layout": "IPY_MODEL_e7efae61d41647c385dbf40d61d9f553",
            "placeholder": "​",
            "style": "IPY_MODEL_1676adc367c744ba9016b448fe085b92",
            "value": " 1649664/? [00:00&lt;00:00, 24080576.03it/s]"
          }
        },
        "c173a760e28c4ecdb28effcb00ecbbbc": {
          "model_module": "@jupyter-widgets/base",
          "model_name": "LayoutModel",
          "model_module_version": "1.2.0",
          "state": {
            "_model_module": "@jupyter-widgets/base",
            "_model_module_version": "1.2.0",
            "_model_name": "LayoutModel",
            "_view_count": null,
            "_view_module": "@jupyter-widgets/base",
            "_view_module_version": "1.2.0",
            "_view_name": "LayoutView",
            "align_content": null,
            "align_items": null,
            "align_self": null,
            "border": null,
            "bottom": null,
            "display": null,
            "flex": null,
            "flex_flow": null,
            "grid_area": null,
            "grid_auto_columns": null,
            "grid_auto_flow": null,
            "grid_auto_rows": null,
            "grid_column": null,
            "grid_gap": null,
            "grid_row": null,
            "grid_template_areas": null,
            "grid_template_columns": null,
            "grid_template_rows": null,
            "height": null,
            "justify_content": null,
            "justify_items": null,
            "left": null,
            "margin": null,
            "max_height": null,
            "max_width": null,
            "min_height": null,
            "min_width": null,
            "object_fit": null,
            "object_position": null,
            "order": null,
            "overflow": null,
            "overflow_x": null,
            "overflow_y": null,
            "padding": null,
            "right": null,
            "top": null,
            "visibility": null,
            "width": null
          }
        },
        "cb05d7d22f294371aa433d9bb394cb8d": {
          "model_module": "@jupyter-widgets/base",
          "model_name": "LayoutModel",
          "model_module_version": "1.2.0",
          "state": {
            "_model_module": "@jupyter-widgets/base",
            "_model_module_version": "1.2.0",
            "_model_name": "LayoutModel",
            "_view_count": null,
            "_view_module": "@jupyter-widgets/base",
            "_view_module_version": "1.2.0",
            "_view_name": "LayoutView",
            "align_content": null,
            "align_items": null,
            "align_self": null,
            "border": null,
            "bottom": null,
            "display": null,
            "flex": null,
            "flex_flow": null,
            "grid_area": null,
            "grid_auto_columns": null,
            "grid_auto_flow": null,
            "grid_auto_rows": null,
            "grid_column": null,
            "grid_gap": null,
            "grid_row": null,
            "grid_template_areas": null,
            "grid_template_columns": null,
            "grid_template_rows": null,
            "height": null,
            "justify_content": null,
            "justify_items": null,
            "left": null,
            "margin": null,
            "max_height": null,
            "max_width": null,
            "min_height": null,
            "min_width": null,
            "object_fit": null,
            "object_position": null,
            "order": null,
            "overflow": null,
            "overflow_x": null,
            "overflow_y": null,
            "padding": null,
            "right": null,
            "top": null,
            "visibility": null,
            "width": null
          }
        },
        "2ca5a6ea8cfe41318a5199ff14da6005": {
          "model_module": "@jupyter-widgets/controls",
          "model_name": "DescriptionStyleModel",
          "model_module_version": "1.5.0",
          "state": {
            "_model_module": "@jupyter-widgets/controls",
            "_model_module_version": "1.5.0",
            "_model_name": "DescriptionStyleModel",
            "_view_count": null,
            "_view_module": "@jupyter-widgets/base",
            "_view_module_version": "1.2.0",
            "_view_name": "StyleView",
            "description_width": ""
          }
        },
        "69d9f60aa8d449d6a57dc2d8e7235708": {
          "model_module": "@jupyter-widgets/base",
          "model_name": "LayoutModel",
          "model_module_version": "1.2.0",
          "state": {
            "_model_module": "@jupyter-widgets/base",
            "_model_module_version": "1.2.0",
            "_model_name": "LayoutModel",
            "_view_count": null,
            "_view_module": "@jupyter-widgets/base",
            "_view_module_version": "1.2.0",
            "_view_name": "LayoutView",
            "align_content": null,
            "align_items": null,
            "align_self": null,
            "border": null,
            "bottom": null,
            "display": null,
            "flex": null,
            "flex_flow": null,
            "grid_area": null,
            "grid_auto_columns": null,
            "grid_auto_flow": null,
            "grid_auto_rows": null,
            "grid_column": null,
            "grid_gap": null,
            "grid_row": null,
            "grid_template_areas": null,
            "grid_template_columns": null,
            "grid_template_rows": null,
            "height": null,
            "justify_content": null,
            "justify_items": null,
            "left": null,
            "margin": null,
            "max_height": null,
            "max_width": null,
            "min_height": null,
            "min_width": null,
            "object_fit": null,
            "object_position": null,
            "order": null,
            "overflow": null,
            "overflow_x": null,
            "overflow_y": null,
            "padding": null,
            "right": null,
            "top": null,
            "visibility": null,
            "width": null
          }
        },
        "d3e1cf5cd9084ed1baaa158c7f6766f8": {
          "model_module": "@jupyter-widgets/controls",
          "model_name": "ProgressStyleModel",
          "model_module_version": "1.5.0",
          "state": {
            "_model_module": "@jupyter-widgets/controls",
            "_model_module_version": "1.5.0",
            "_model_name": "ProgressStyleModel",
            "_view_count": null,
            "_view_module": "@jupyter-widgets/base",
            "_view_module_version": "1.2.0",
            "_view_name": "StyleView",
            "bar_color": null,
            "description_width": ""
          }
        },
        "e7efae61d41647c385dbf40d61d9f553": {
          "model_module": "@jupyter-widgets/base",
          "model_name": "LayoutModel",
          "model_module_version": "1.2.0",
          "state": {
            "_model_module": "@jupyter-widgets/base",
            "_model_module_version": "1.2.0",
            "_model_name": "LayoutModel",
            "_view_count": null,
            "_view_module": "@jupyter-widgets/base",
            "_view_module_version": "1.2.0",
            "_view_name": "LayoutView",
            "align_content": null,
            "align_items": null,
            "align_self": null,
            "border": null,
            "bottom": null,
            "display": null,
            "flex": null,
            "flex_flow": null,
            "grid_area": null,
            "grid_auto_columns": null,
            "grid_auto_flow": null,
            "grid_auto_rows": null,
            "grid_column": null,
            "grid_gap": null,
            "grid_row": null,
            "grid_template_areas": null,
            "grid_template_columns": null,
            "grid_template_rows": null,
            "height": null,
            "justify_content": null,
            "justify_items": null,
            "left": null,
            "margin": null,
            "max_height": null,
            "max_width": null,
            "min_height": null,
            "min_width": null,
            "object_fit": null,
            "object_position": null,
            "order": null,
            "overflow": null,
            "overflow_x": null,
            "overflow_y": null,
            "padding": null,
            "right": null,
            "top": null,
            "visibility": null,
            "width": null
          }
        },
        "1676adc367c744ba9016b448fe085b92": {
          "model_module": "@jupyter-widgets/controls",
          "model_name": "DescriptionStyleModel",
          "model_module_version": "1.5.0",
          "state": {
            "_model_module": "@jupyter-widgets/controls",
            "_model_module_version": "1.5.0",
            "_model_name": "DescriptionStyleModel",
            "_view_count": null,
            "_view_module": "@jupyter-widgets/base",
            "_view_module_version": "1.2.0",
            "_view_name": "StyleView",
            "description_width": ""
          }
        },
        "d23d376f3c8d4685bf7ad1a7f4ba1ad3": {
          "model_module": "@jupyter-widgets/controls",
          "model_name": "HBoxModel",
          "model_module_version": "1.5.0",
          "state": {
            "_dom_classes": [],
            "_model_module": "@jupyter-widgets/controls",
            "_model_module_version": "1.5.0",
            "_model_name": "HBoxModel",
            "_view_count": null,
            "_view_module": "@jupyter-widgets/controls",
            "_view_module_version": "1.5.0",
            "_view_name": "HBoxView",
            "box_style": "",
            "children": [
              "IPY_MODEL_de8fc965bfdc404e99e376b999d77c98",
              "IPY_MODEL_e84daf0da74647c8a922e70eeaa633ce",
              "IPY_MODEL_322a16281ca745a0ad55f501af5aecd5"
            ],
            "layout": "IPY_MODEL_3e4a61216f124283974f8780195863fc"
          }
        },
        "de8fc965bfdc404e99e376b999d77c98": {
          "model_module": "@jupyter-widgets/controls",
          "model_name": "HTMLModel",
          "model_module_version": "1.5.0",
          "state": {
            "_dom_classes": [],
            "_model_module": "@jupyter-widgets/controls",
            "_model_module_version": "1.5.0",
            "_model_name": "HTMLModel",
            "_view_count": null,
            "_view_module": "@jupyter-widgets/controls",
            "_view_module_version": "1.5.0",
            "_view_name": "HTMLView",
            "description": "",
            "description_tooltip": null,
            "layout": "IPY_MODEL_9ef44b958dc642768babc920f7d7d9ac",
            "placeholder": "​",
            "style": "IPY_MODEL_7fb36d62dac840ac8de7bdd634430834",
            "value": ""
          }
        },
        "e84daf0da74647c8a922e70eeaa633ce": {
          "model_module": "@jupyter-widgets/controls",
          "model_name": "FloatProgressModel",
          "model_module_version": "1.5.0",
          "state": {
            "_dom_classes": [],
            "_model_module": "@jupyter-widgets/controls",
            "_model_module_version": "1.5.0",
            "_model_name": "FloatProgressModel",
            "_view_count": null,
            "_view_module": "@jupyter-widgets/controls",
            "_view_module_version": "1.5.0",
            "_view_name": "ProgressView",
            "bar_style": "success",
            "description": "",
            "description_tooltip": null,
            "layout": "IPY_MODEL_3054ffae61f64829b1b639fa548cddb5",
            "max": 4542,
            "min": 0,
            "orientation": "horizontal",
            "style": "IPY_MODEL_2bc1d14691634cd795da698df0a51ef3",
            "value": 4542
          }
        },
        "322a16281ca745a0ad55f501af5aecd5": {
          "model_module": "@jupyter-widgets/controls",
          "model_name": "HTMLModel",
          "model_module_version": "1.5.0",
          "state": {
            "_dom_classes": [],
            "_model_module": "@jupyter-widgets/controls",
            "_model_module_version": "1.5.0",
            "_model_name": "HTMLModel",
            "_view_count": null,
            "_view_module": "@jupyter-widgets/controls",
            "_view_module_version": "1.5.0",
            "_view_name": "HTMLView",
            "description": "",
            "description_tooltip": null,
            "layout": "IPY_MODEL_337f6c8a3f89401fb66d23424be2514d",
            "placeholder": "​",
            "style": "IPY_MODEL_383163b321054b92b59dc73aa37b5bb9",
            "value": " 5120/? [00:00&lt;00:00, 157787.19it/s]"
          }
        },
        "3e4a61216f124283974f8780195863fc": {
          "model_module": "@jupyter-widgets/base",
          "model_name": "LayoutModel",
          "model_module_version": "1.2.0",
          "state": {
            "_model_module": "@jupyter-widgets/base",
            "_model_module_version": "1.2.0",
            "_model_name": "LayoutModel",
            "_view_count": null,
            "_view_module": "@jupyter-widgets/base",
            "_view_module_version": "1.2.0",
            "_view_name": "LayoutView",
            "align_content": null,
            "align_items": null,
            "align_self": null,
            "border": null,
            "bottom": null,
            "display": null,
            "flex": null,
            "flex_flow": null,
            "grid_area": null,
            "grid_auto_columns": null,
            "grid_auto_flow": null,
            "grid_auto_rows": null,
            "grid_column": null,
            "grid_gap": null,
            "grid_row": null,
            "grid_template_areas": null,
            "grid_template_columns": null,
            "grid_template_rows": null,
            "height": null,
            "justify_content": null,
            "justify_items": null,
            "left": null,
            "margin": null,
            "max_height": null,
            "max_width": null,
            "min_height": null,
            "min_width": null,
            "object_fit": null,
            "object_position": null,
            "order": null,
            "overflow": null,
            "overflow_x": null,
            "overflow_y": null,
            "padding": null,
            "right": null,
            "top": null,
            "visibility": null,
            "width": null
          }
        },
        "9ef44b958dc642768babc920f7d7d9ac": {
          "model_module": "@jupyter-widgets/base",
          "model_name": "LayoutModel",
          "model_module_version": "1.2.0",
          "state": {
            "_model_module": "@jupyter-widgets/base",
            "_model_module_version": "1.2.0",
            "_model_name": "LayoutModel",
            "_view_count": null,
            "_view_module": "@jupyter-widgets/base",
            "_view_module_version": "1.2.0",
            "_view_name": "LayoutView",
            "align_content": null,
            "align_items": null,
            "align_self": null,
            "border": null,
            "bottom": null,
            "display": null,
            "flex": null,
            "flex_flow": null,
            "grid_area": null,
            "grid_auto_columns": null,
            "grid_auto_flow": null,
            "grid_auto_rows": null,
            "grid_column": null,
            "grid_gap": null,
            "grid_row": null,
            "grid_template_areas": null,
            "grid_template_columns": null,
            "grid_template_rows": null,
            "height": null,
            "justify_content": null,
            "justify_items": null,
            "left": null,
            "margin": null,
            "max_height": null,
            "max_width": null,
            "min_height": null,
            "min_width": null,
            "object_fit": null,
            "object_position": null,
            "order": null,
            "overflow": null,
            "overflow_x": null,
            "overflow_y": null,
            "padding": null,
            "right": null,
            "top": null,
            "visibility": null,
            "width": null
          }
        },
        "7fb36d62dac840ac8de7bdd634430834": {
          "model_module": "@jupyter-widgets/controls",
          "model_name": "DescriptionStyleModel",
          "model_module_version": "1.5.0",
          "state": {
            "_model_module": "@jupyter-widgets/controls",
            "_model_module_version": "1.5.0",
            "_model_name": "DescriptionStyleModel",
            "_view_count": null,
            "_view_module": "@jupyter-widgets/base",
            "_view_module_version": "1.2.0",
            "_view_name": "StyleView",
            "description_width": ""
          }
        },
        "3054ffae61f64829b1b639fa548cddb5": {
          "model_module": "@jupyter-widgets/base",
          "model_name": "LayoutModel",
          "model_module_version": "1.2.0",
          "state": {
            "_model_module": "@jupyter-widgets/base",
            "_model_module_version": "1.2.0",
            "_model_name": "LayoutModel",
            "_view_count": null,
            "_view_module": "@jupyter-widgets/base",
            "_view_module_version": "1.2.0",
            "_view_name": "LayoutView",
            "align_content": null,
            "align_items": null,
            "align_self": null,
            "border": null,
            "bottom": null,
            "display": null,
            "flex": null,
            "flex_flow": null,
            "grid_area": null,
            "grid_auto_columns": null,
            "grid_auto_flow": null,
            "grid_auto_rows": null,
            "grid_column": null,
            "grid_gap": null,
            "grid_row": null,
            "grid_template_areas": null,
            "grid_template_columns": null,
            "grid_template_rows": null,
            "height": null,
            "justify_content": null,
            "justify_items": null,
            "left": null,
            "margin": null,
            "max_height": null,
            "max_width": null,
            "min_height": null,
            "min_width": null,
            "object_fit": null,
            "object_position": null,
            "order": null,
            "overflow": null,
            "overflow_x": null,
            "overflow_y": null,
            "padding": null,
            "right": null,
            "top": null,
            "visibility": null,
            "width": null
          }
        },
        "2bc1d14691634cd795da698df0a51ef3": {
          "model_module": "@jupyter-widgets/controls",
          "model_name": "ProgressStyleModel",
          "model_module_version": "1.5.0",
          "state": {
            "_model_module": "@jupyter-widgets/controls",
            "_model_module_version": "1.5.0",
            "_model_name": "ProgressStyleModel",
            "_view_count": null,
            "_view_module": "@jupyter-widgets/base",
            "_view_module_version": "1.2.0",
            "_view_name": "StyleView",
            "bar_color": null,
            "description_width": ""
          }
        },
        "337f6c8a3f89401fb66d23424be2514d": {
          "model_module": "@jupyter-widgets/base",
          "model_name": "LayoutModel",
          "model_module_version": "1.2.0",
          "state": {
            "_model_module": "@jupyter-widgets/base",
            "_model_module_version": "1.2.0",
            "_model_name": "LayoutModel",
            "_view_count": null,
            "_view_module": "@jupyter-widgets/base",
            "_view_module_version": "1.2.0",
            "_view_name": "LayoutView",
            "align_content": null,
            "align_items": null,
            "align_self": null,
            "border": null,
            "bottom": null,
            "display": null,
            "flex": null,
            "flex_flow": null,
            "grid_area": null,
            "grid_auto_columns": null,
            "grid_auto_flow": null,
            "grid_auto_rows": null,
            "grid_column": null,
            "grid_gap": null,
            "grid_row": null,
            "grid_template_areas": null,
            "grid_template_columns": null,
            "grid_template_rows": null,
            "height": null,
            "justify_content": null,
            "justify_items": null,
            "left": null,
            "margin": null,
            "max_height": null,
            "max_width": null,
            "min_height": null,
            "min_width": null,
            "object_fit": null,
            "object_position": null,
            "order": null,
            "overflow": null,
            "overflow_x": null,
            "overflow_y": null,
            "padding": null,
            "right": null,
            "top": null,
            "visibility": null,
            "width": null
          }
        },
        "383163b321054b92b59dc73aa37b5bb9": {
          "model_module": "@jupyter-widgets/controls",
          "model_name": "DescriptionStyleModel",
          "model_module_version": "1.5.0",
          "state": {
            "_model_module": "@jupyter-widgets/controls",
            "_model_module_version": "1.5.0",
            "_model_name": "DescriptionStyleModel",
            "_view_count": null,
            "_view_module": "@jupyter-widgets/base",
            "_view_module_version": "1.2.0",
            "_view_name": "StyleView",
            "description_width": ""
          }
        }
      }
    }
  },
  "nbformat": 4,
  "nbformat_minor": 0
}